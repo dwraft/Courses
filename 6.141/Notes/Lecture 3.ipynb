{
 "cells": [
  {
   "cell_type": "markdown",
   "metadata": {},
   "source": [
    "# Robotic Architectures\n",
    "\n",
    "- Robot: an embodied system able to sense and undersand aspects of the physical world and apply a __complex__ series of physical actions to it\n",
    "- Architectures break down a high level goal (go from Point A to Point B) into actions\n",
    "- Sense-think-act loop: __environment -> sensors -> computation -> actuators -> environment__\n",
    "\n",
    "## Self Driving Car\n",
    "\n",
    "- Sensors\n",
    "- State estimation and signal processing (estimate distance to obstacles, position in lane)\n",
    "- Give low-level commands/goal to control system\n",
    "- Control system communicates to actuators\n",
    "- Actuators act on environment\n",
    "\n",
    "## Semantic Meaning\n",
    "- Identifying objects, assigning labels to them\n",
    "- Creating a semantic model of the environment allows for high level task planning\n",
    "\n",
    "## Perception Archiecture\n",
    "\n",
    "- Increasing abstraction and autonomy at higher levels\n",
    "- Sensing -> Signal Processing -> Spacial perception -> Semantic Perception\n",
    "- Semantic : machine learning\n",
    "- Spatial Perception: localization, mapping, SLAM\n",
    "- Signal Processing: models, localization\n",
    "\n",
    "## Decision Making Architecture\n",
    "\n",
    "- Transforming abstract high level goals into lower level actions\n",
    "- Deliberative/Task Planning -> Motion Planning -> Control -> Actuators"
   ]
  },
  {
   "cell_type": "markdown",
   "metadata": {},
   "source": [
    "# ROS\n",
    "\n",
    "- Robotic Operating System\n",
    "\n",
    "## Who is ROSS\n",
    "\n",
    "- Made by Open Robotics Foundation\n",
    "- Makes ROS and Gazebo software (used for simulations, often comes with ROS)\n",
    "- Open Source Software\n",
    "\n",
    "## What is ROSS?\n",
    "\n",
    "- \"ROSS is an open-source, meta-operating system for your robot.\" -ROS Wiki\n",
    "- Really robotic middleware/software glue\n",
    "- Hardware Abstraction, low level device control etc\n",
    "- PUB/SUB model\n",
    "- Easy to use with different parts, modular\n",
    "- Useful for interdisciplinary fields like robotics, where functionalities of different parts can be abstracted away\n",
    "\n",
    "## PUB/SUB\n",
    "\n",
    "- Publisher/Subscriber\n",
    "- Built on top of regular network connections"
   ]
  },
  {
   "cell_type": "code",
   "execution_count": null,
   "metadata": {},
   "outputs": [],
   "source": []
  }
 ],
 "metadata": {
  "kernelspec": {
   "display_name": "Python 3",
   "language": "python",
   "name": "python3"
  },
  "language_info": {
   "codemirror_mode": {
    "name": "ipython",
    "version": 3
   },
   "file_extension": ".py",
   "mimetype": "text/x-python",
   "name": "python",
   "nbconvert_exporter": "python",
   "pygments_lexer": "ipython3",
   "version": "3.6.5"
  }
 },
 "nbformat": 4,
 "nbformat_minor": 2
}
