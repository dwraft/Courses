{
 "cells": [
  {
   "cell_type": "markdown",
   "metadata": {},
   "source": [
    "# Logistics\n",
    "\n",
    "## TA\n",
    "- Luca\n",
    "- lspolaor@mit.edu\n",
    "- Stellar for grades\n",
    "- MITx for most materials\n",
    "- Gradescopes for submitting PSETs\n",
    "\n",
    "## Contacts\n",
    "\n",
    "- Max Engelstein: maxe@mit.edu\n",
    "\n",
    "## Midterms\n",
    "\n",
    "- Midterm 1: 02/27\n",
    "- Midterm 2: 04/03\n",
    "- Midterm 3: 05/03\n",
    "\n",
    "## Final\n",
    "\n",
    "- Regular Final May 20-24\n",
    "\n",
    "## Excuses\n",
    "\n",
    "- Generally only for significant health problems, see $\\text{S}^3$\n",
    "\n",
    "## Late Policy:\n",
    "\n",
    "- One PSET can be handed in one week late, after that see $\\text{S}^3$\n",
    "\n",
    "## Grading\n",
    "\n",
    "- Homework: 20% total\n",
    "- Midterms: 30% total\n",
    "- Final: 30% total\n",
    "\n",
    "## Recitation\n",
    "\n",
    "- Mix of group problems and lecture"
   ]
  },
  {
   "cell_type": "markdown",
   "metadata": {},
   "source": [
    "# Separation of Variables\n",
    "\n",
    "1. Write the Differential Equation in Leibniz Form as a product of a function of $t$ and a function of $y$: $$\\frac{dy}{dt} = h(y)g(t)$$\n",
    "\n",
    "2. Seprate $y$ and $t$\n",
    "\n",
    "$$\\frac{dy}{h(y)} = g(t) dt$$\n",
    "\n",
    "(Be sure to Check case where $h(y)=0$ so the division is invalid)\n",
    "\n",
    "3. Integrate $$\\int \\frac{dy}{h(y)} = \\int g(t) dt$$\n",
    "\n",
    "4. Solve $F(y) = G(t) + C$ for $y$ in terms of $t$\n",
    "\n",
    "5. Check for case where $h(y)=0$ to find the general solution for the Differential Equation"
   ]
  },
  {
   "cell_type": "markdown",
   "metadata": {},
   "source": [
    "# Practice Problems\n",
    "\n",
    "1. $$\\frac{dy}{dx} = ay \\text{ where } y(0) = 1$$\n",
    "$$\\frac{1}{y}dy = a dx$$\n",
    "$$\\int \\frac{1}{y}dy = \\int a dx$$\n",
    "$$\\implies \\ln(y) = ax + c$$\n",
    "$$y = e^{ax+c}$$\n",
    "$$y=ce^{ax}$$\n",
    "$$y(0) = 1 \\implies c = 1 \\implies y=e^{ax}$$"
   ]
  },
  {
   "cell_type": "code",
   "execution_count": null,
   "metadata": {},
   "outputs": [],
   "source": []
  }
 ],
 "metadata": {
  "kernelspec": {
   "display_name": "Python 3",
   "language": "python",
   "name": "python3"
  },
  "language_info": {
   "codemirror_mode": {
    "name": "ipython",
    "version": 3
   },
   "file_extension": ".py",
   "mimetype": "text/x-python",
   "name": "python",
   "nbconvert_exporter": "python",
   "pygments_lexer": "ipython3",
   "version": "3.6.5"
  }
 },
 "nbformat": 4,
 "nbformat_minor": 2
}
