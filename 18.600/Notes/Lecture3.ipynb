{
 "cells": [
  {
   "cell_type": "markdown",
   "metadata": {},
   "source": [
    "# Lecture 3\n",
    "\n"
   ]
  },
  {
   "cell_type": "markdown",
   "metadata": {},
   "source": [
    "# What does it Mean when I say there is a 30% chance of Rain?\n",
    "\n",
    "- __Neurological__: When I think \"it will rain tomorow\", the \"truth sensing\" part of my brain exhibits 30% of the maximum electrical activity \n",
    "- __Frequentist__: of 1000 days with similar meteorological measurements as today, it rained the next day 300 times\n",
    "- __Market Preference__: A contract that pays 100 if it rains tomorrow is priced equally to a contract which pays a guaranteed 30\n",
    "- __Personal Preference__: I would be indifferent to the two contracts\n",
    "\n",
    "# Defining a Set of Possible Outcomes\n",
    "\n",
    "- $S$ is generally used to represent a sample space of possible outcomes of an experiment\n",
    "- Die Roll: $S = \\{1,2,3,4,5,6\\}$, $\\lvert S \\rvert= 6$\n",
    "- Cards Shuffled: $S = \\text{permutations of 52 numbers}$, $\\lvert S \\rvert = 52!$\n",
    "- Flipping a coin $n$ times: $S=\\{H,T\\}^n$, (sequence of heads and tails) $\\lvert S \\rvert = 2^n$\n",
    "\n",
    "## Infinite Sample Spaces\n",
    "\n",
    "- Throwing a Dart at a continuous square dartboard of side length 1\n",
    "- $S=[0,1] \\times [0,1]$\n",
    "- $\\lvert S \\rvert = \\infty$\n",
    "\n",
    "## Notation\n",
    "\n",
    "- If a set $A$ is comprised of some elements of $B$, say $A$ is a (proper) subset of $B$: $A \\subset B$\n",
    "- $B \\supset A$ means $A$ is a (proper) subset of $B$\n",
    "- $A \\cup B$ means the __union__ of the elements of $A$ and $B$ (any element is contained in either $A$ or $B$ or both\n",
    "- $A \\cap B$ is the __intersection__, contains all elements which are in both $A$ and $B$\n",
    "- $A^c$ is the __complement__ of $A$, contains all elements not in $A$\n",
    "- $A \\text{\\\\} B$: ($A$ minus $B$) is all elements in $A$ but not $B$\n",
    "- Union and complement are both associative operators\n",
    "\n",
    "## De Morgans Laws\n",
    "\n",
    "- In words: \"It will not snow or rain\" means \"It will not snow and it will not rain\"\n",
    "- $(S \\cup R)^c = S^c \\cap R^c$\n",
    "- In general: $(\\cup_{i=1}^n E_i)^c = \\cap_{i=1}^n (E_i) ^c$"
   ]
  },
  {
   "cell_type": "markdown",
   "metadata": {},
   "source": []
  }
 ],
 "metadata": {
  "kernelspec": {
   "display_name": "Python 3",
   "language": "python",
   "name": "python3"
  },
  "language_info": {
   "codemirror_mode": {
    "name": "ipython",
    "version": 3
   },
   "file_extension": ".py",
   "mimetype": "text/x-python",
   "name": "python",
   "nbconvert_exporter": "python",
   "pygments_lexer": "ipython3",
   "version": "3.6.5"
  }
 },
 "nbformat": 4,
 "nbformat_minor": 2
}
